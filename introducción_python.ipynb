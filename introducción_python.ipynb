{
 "cells": [
  {
   "cell_type": "markdown",
   "metadata": {},
   "source": [
    "# Introducción Python  "
   ]
  },
  {
   "cell_type": "markdown",
   "metadata": {},
   "source": [
    "# Contenido"
   ]
  },
  {
   "cell_type": "markdown",
   "metadata": {},
   "source": [
    "- <a href=\"#introduction\">Introducción a Python</a>\n",
    "    - <a href=\"#data_types\"> Tipos de datos </a>\n",
    "    - <a href=\"#struct\"> Estructuras de datos </a>\n",
    "    - <a href=\"#condition\"> Sentencias condicionales if, else, elif </a> \n",
    "    - <a href=\"#loop\"> Sentencias repetitivas while, for </a>\n",
    "    - <a href=\"#function\"> Funciones </a>"
   ]
  },
  {
   "cell_type": "markdown",
   "metadata": {},
   "source": [
    "<a id=\"#introduction\"></a>\n",
    "# Introducción a Python \n",
    "<a id=\"#data_types\"></a>\n",
    "## Tipos de datos"
   ]
  },
  {
   "cell_type": "code",
   "execution_count": 4,
   "metadata": {},
   "outputs": [
    {
     "name": "stdout",
     "output_type": "stream",
     "text": [
      "<class 'int'>\n"
     ]
    }
   ],
   "source": [
    "a = 10\n",
    "print(type(a))"
   ]
  },
  {
   "cell_type": "code",
   "execution_count": 5,
   "metadata": {},
   "outputs": [
    {
     "name": "stdout",
     "output_type": "stream",
     "text": [
      "<class 'float'>\n"
     ]
    }
   ],
   "source": [
    "b = 11.3\n",
    "print(type(b))"
   ]
  },
  {
   "cell_type": "code",
   "execution_count": 6,
   "metadata": {},
   "outputs": [
    {
     "name": "stdout",
     "output_type": "stream",
     "text": [
      "<class 'bool'>\n"
     ]
    }
   ],
   "source": [
    "c = True\n",
    "print(type(c))"
   ]
  },
  {
   "cell_type": "code",
   "execution_count": 7,
   "metadata": {},
   "outputs": [
    {
     "name": "stdout",
     "output_type": "stream",
     "text": [
      "<class 'complex'> 1.0 -10.0\n"
     ]
    }
   ],
   "source": [
    "d = 1-10j\n",
    "print(type(d), d.real, d.imag)"
   ]
  },
  {
   "cell_type": "code",
   "execution_count": 8,
   "metadata": {},
   "outputs": [
    {
     "name": "stdout",
     "output_type": "stream",
     "text": [
      "<class 'str'>\n"
     ]
    }
   ],
   "source": [
    "e = \"computación cientifica\"\n",
    "print(type(e))"
   ]
  },
  {
   "cell_type": "markdown",
   "metadata": {},
   "source": [
    "#### Operaciones matematicas"
   ]
  },
  {
   "cell_type": "code",
   "execution_count": 9,
   "metadata": {},
   "outputs": [
    {
     "name": "stdout",
     "output_type": "stream",
     "text": [
      "14.5\n"
     ]
    }
   ],
   "source": [
    "resultado = (4 * 5 + 3**2 )/2\n",
    "print(resultado)"
   ]
  },
  {
   "cell_type": "code",
   "execution_count": 10,
   "metadata": {},
   "outputs": [
    {
     "data": {
      "text/plain": [
       "1"
      ]
     },
     "execution_count": 10,
     "metadata": {},
     "output_type": "execute_result"
    }
   ],
   "source": [
    "residuo = 9 % 4\n",
    "residuo"
   ]
  },
  {
   "cell_type": "markdown",
   "metadata": {},
   "source": [
    "**Ejercicio**\n",
    "\n",
    "Leer el nombre completo de un alumno e ingresar sus notas para luego dar como resultado su promedio. "
   ]
  },
  {
   "cell_type": "code",
   "execution_count": 11,
   "metadata": {},
   "outputs": [
    {
     "name": "stdout",
     "output_type": "stream",
     "text": [
      "ingresar nombre : manuel\n",
      "ingrear apellido :cardenas\n",
      "parcial : 12\n",
      "final : 19\n",
      "practica : 12\n",
      "\n",
      "Resultado\n",
      "=========\n",
      "Alumno : Manuel Cardenas\n",
      "Nota : 14.33\n"
     ]
    }
   ],
   "source": [
    "nombre = input(\"ingresar nombre : \")\n",
    "apellido = input(\"ingrear apellido :\")\n",
    "parcial = float(input(\"parcial : \"))\n",
    "final = float(input(\"final : \"))\n",
    "\n",
    "practica = float(input(\"practica : \"))\n",
    "\n",
    "nota = (parcial + final + practica)/3\n",
    "print()\n",
    "print(\"Resultado\")\n",
    "print(\"=========\")\n",
    "print(\"Alumno : \" + nombre.title() + \" \" + apellido.title())\n",
    "print(\"Nota : \" + str(round(nota , 2) ) )"
   ]
  },
  {
   "cell_type": "code",
   "execution_count": 12,
   "metadata": {
    "scrolled": true
   },
   "outputs": [
    {
     "name": "stdout",
     "output_type": "stream",
     "text": [
      "ingresar nombre : eduardo\n",
      "ingrear apellido :cardenas\n",
      "parcial : 10\n",
      "final : 20\n",
      "practica : 10\n",
      "\n",
      "Resultado\n",
      "=========\n",
      "Alumno : Eduardo Cardenas\n",
      "Nota : 13.33\n"
     ]
    }
   ],
   "source": [
    "nombre = input(\"ingresar nombre : \")\n",
    "apellido = input(\"ingrear apellido :\")\n",
    "parcial = float(input(\"parcial : \"))\n",
    "final = float(input(\"final : \"))\n",
    "practica = float(input(\"practica : \"))\n",
    "\n",
    "nota = (parcial + final + practica)/3\n",
    "print()\n",
    "print(\"Resultado\")\n",
    "print(\"=========\")\n",
    "print(\"Alumno : {0} {1}\".format(nombre.title(), apellido.title()))\n",
    "print(\"Nota : {0:.2f}\".format(nota) )"
   ]
  },
  {
   "cell_type": "markdown",
   "metadata": {},
   "source": [
    "#### Operaciones Logicas"
   ]
  },
  {
   "cell_type": "code",
   "execution_count": 13,
   "metadata": {},
   "outputs": [
    {
     "data": {
      "text/plain": [
       "False"
      ]
     },
     "execution_count": 13,
     "metadata": {},
     "output_type": "execute_result"
    }
   ],
   "source": [
    "True and False"
   ]
  },
  {
   "cell_type": "code",
   "execution_count": 14,
   "metadata": {},
   "outputs": [
    {
     "data": {
      "text/plain": [
       "True"
      ]
     },
     "execution_count": 14,
     "metadata": {},
     "output_type": "execute_result"
    }
   ],
   "source": [
    "True or False"
   ]
  },
  {
   "cell_type": "code",
   "execution_count": 15,
   "metadata": {},
   "outputs": [
    {
     "data": {
      "text/plain": [
       "False"
      ]
     },
     "execution_count": 15,
     "metadata": {},
     "output_type": "execute_result"
    }
   ],
   "source": [
    "not True"
   ]
  },
  {
   "cell_type": "code",
   "execution_count": 16,
   "metadata": {},
   "outputs": [
    {
     "data": {
      "text/plain": [
       "(True, True, False, True, True, False, True)"
      ]
     },
     "execution_count": 16,
     "metadata": {},
     "output_type": "execute_result"
    }
   ],
   "source": [
    "1 == 1, 4 > 2 , 7 < 3, 4 >= 4, 3 <= 4, \"carro\" == \"car\", \"abc\" < \"abd\""
   ]
  },
  {
   "cell_type": "markdown",
   "metadata": {},
   "source": [
    "> Hasta ahora conocemos conceptos basicos de las instrucciones individuales y que un programa es solo una serie de instrucciones. Pero la verdadera fuerza de la programación no es simplemente ejecutar una instrucción tras otra, como una lista de recados. En función de cómo evalúen las expresiones, el programa puede decidir omitir instrucciones o repetirlas."
   ]
  },
  {
   "cell_type": "markdown",
   "metadata": {},
   "source": [
    "<a id=\"struct\" > </a>\n",
    "## Estructuras de datos\n",
    "### Listas"
   ]
  },
  {
   "cell_type": "code",
   "execution_count": 17,
   "metadata": {},
   "outputs": [
    {
     "data": {
      "text/plain": [
       "['manuel', 12, True, 12.9]"
      ]
     },
     "execution_count": 17,
     "metadata": {},
     "output_type": "execute_result"
    }
   ],
   "source": [
    "datos = [\"manuel\", 12, True, 12.9]\n",
    "datos"
   ]
  },
  {
   "cell_type": "code",
   "execution_count": 18,
   "metadata": {},
   "outputs": [
    {
     "data": {
      "text/plain": [
       "'manuel'"
      ]
     },
     "execution_count": 18,
     "metadata": {},
     "output_type": "execute_result"
    }
   ],
   "source": [
    "datos[0]"
   ]
  },
  {
   "cell_type": "code",
   "execution_count": 19,
   "metadata": {},
   "outputs": [
    {
     "data": {
      "text/plain": [
       "12"
      ]
     },
     "execution_count": 19,
     "metadata": {},
     "output_type": "execute_result"
    }
   ],
   "source": [
    "datos[1]"
   ]
  },
  {
   "cell_type": "code",
   "execution_count": 20,
   "metadata": {},
   "outputs": [
    {
     "data": {
      "text/plain": [
       "12.9"
      ]
     },
     "execution_count": 20,
     "metadata": {},
     "output_type": "execute_result"
    }
   ],
   "source": [
    "datos[3]"
   ]
  },
  {
   "cell_type": "code",
   "execution_count": 21,
   "metadata": {},
   "outputs": [
    {
     "data": {
      "text/plain": [
       "['manuel', 12, False, 12.9]"
      ]
     },
     "execution_count": 21,
     "metadata": {},
     "output_type": "execute_result"
    }
   ],
   "source": [
    "datos[2] = False\n",
    "datos"
   ]
  },
  {
   "cell_type": "code",
   "execution_count": 22,
   "metadata": {},
   "outputs": [
    {
     "data": {
      "text/plain": [
       "4"
      ]
     },
     "execution_count": 22,
     "metadata": {},
     "output_type": "execute_result"
    }
   ],
   "source": [
    "len(datos)"
   ]
  },
  {
   "cell_type": "code",
   "execution_count": 23,
   "metadata": {},
   "outputs": [
    {
     "data": {
      "text/plain": [
       "['manuel', 12, False, 12.9, 'otro más']"
      ]
     },
     "execution_count": 23,
     "metadata": {},
     "output_type": "execute_result"
    }
   ],
   "source": [
    "datos.append(\"otro más\")\n",
    "datos"
   ]
  },
  {
   "cell_type": "code",
   "execution_count": 24,
   "metadata": {},
   "outputs": [
    {
     "data": {
      "text/plain": [
       "['manuel', False, 12.9, 'otro más']"
      ]
     },
     "execution_count": 24,
     "metadata": {},
     "output_type": "execute_result"
    }
   ],
   "source": [
    "datos.remove(12)\n",
    "datos"
   ]
  },
  {
   "cell_type": "markdown",
   "metadata": {},
   "source": [
    "### Tuplas\n",
    "Las tuplas son similares a las listas, pero una vez declarado no se puede modificar, son inmutables."
   ]
  },
  {
   "cell_type": "code",
   "execution_count": 25,
   "metadata": {},
   "outputs": [
    {
     "data": {
      "text/plain": [
       "(10, 14, 15)"
      ]
     },
     "execution_count": 25,
     "metadata": {},
     "output_type": "execute_result"
    }
   ],
   "source": [
    "datos = (10, 14, 15)\n",
    "datos"
   ]
  },
  {
   "cell_type": "code",
   "execution_count": 26,
   "metadata": {},
   "outputs": [
    {
     "data": {
      "text/plain": [
       "14"
      ]
     },
     "execution_count": 26,
     "metadata": {},
     "output_type": "execute_result"
    }
   ],
   "source": [
    "datos[1]"
   ]
  },
  {
   "cell_type": "code",
   "execution_count": 27,
   "metadata": {},
   "outputs": [
    {
     "data": {
      "text/plain": [
       "3"
      ]
     },
     "execution_count": 27,
     "metadata": {},
     "output_type": "execute_result"
    }
   ],
   "source": [
    "len(datos)"
   ]
  },
  {
   "cell_type": "markdown",
   "metadata": {},
   "source": [
    "### Diccionarios"
   ]
  },
  {
   "cell_type": "code",
   "execution_count": 28,
   "metadata": {},
   "outputs": [
    {
     "data": {
      "text/plain": [
       "{'debilidades': ['tierra', 'roca', 'agua'],\n",
       " 'nombre': 'charmander',\n",
       " 'peso': 8,\n",
       " 'tipo': 'fuego'}"
      ]
     },
     "execution_count": 28,
     "metadata": {},
     "output_type": "execute_result"
    }
   ],
   "source": [
    "pokemon = {\"nombre\": \"charmander\", \"tipo\": \"fuego\", \"peso\": 8, \"debilidades\":[\"tierra\",\"roca\",\"agua\"] }\n",
    "pokemon"
   ]
  },
  {
   "cell_type": "code",
   "execution_count": 29,
   "metadata": {},
   "outputs": [
    {
     "data": {
      "text/plain": [
       "'charmander'"
      ]
     },
     "execution_count": 29,
     "metadata": {},
     "output_type": "execute_result"
    }
   ],
   "source": [
    "pokemon[\"nombre\"]"
   ]
  },
  {
   "cell_type": "code",
   "execution_count": 30,
   "metadata": {},
   "outputs": [
    {
     "data": {
      "text/plain": [
       "8"
      ]
     },
     "execution_count": 30,
     "metadata": {},
     "output_type": "execute_result"
    }
   ],
   "source": [
    "pokemon[\"peso\"]"
   ]
  },
  {
   "cell_type": "code",
   "execution_count": 31,
   "metadata": {},
   "outputs": [
    {
     "data": {
      "text/plain": [
       "['tierra', 'roca', 'agua']"
      ]
     },
     "execution_count": 31,
     "metadata": {},
     "output_type": "execute_result"
    }
   ],
   "source": [
    "pokemon[\"debilidades\"]"
   ]
  },
  {
   "cell_type": "code",
   "execution_count": 32,
   "metadata": {},
   "outputs": [
    {
     "data": {
      "text/plain": [
       "dict_keys(['nombre', 'tipo', 'peso', 'debilidades'])"
      ]
     },
     "execution_count": 32,
     "metadata": {},
     "output_type": "execute_result"
    }
   ],
   "source": [
    "llaves = pokemon.keys()\n",
    "llaves"
   ]
  },
  {
   "cell_type": "code",
   "execution_count": 33,
   "metadata": {},
   "outputs": [
    {
     "data": {
      "text/plain": [
       "dict_values(['charmander', 'fuego', 8, ['tierra', 'roca', 'agua']])"
      ]
     },
     "execution_count": 33,
     "metadata": {},
     "output_type": "execute_result"
    }
   ],
   "source": [
    "valores = pokemon.values()\n",
    "valores"
   ]
  },
  {
   "cell_type": "markdown",
   "metadata": {},
   "source": [
    "<a id=\"condition\"></a>\n",
    "## Sentencias Condicionales if, else, elif"
   ]
  },
  {
   "cell_type": "markdown",
   "metadata": {},
   "source": [
    "### if\n",
    "```python\n",
    "if (condición) :\n",
    "   (codigo a ejecutar si la condición se cumple)\n",
    "else:\n",
    "   (codigo a ejecutar si la condicion no se cumple)\n",
    "```"
   ]
  },
  {
   "cell_type": "code",
   "execution_count": 34,
   "metadata": {},
   "outputs": [],
   "source": [
    "nota = 10 \n",
    "\n",
    "if nota >= 11 :\n",
    "    print(\"aprobado\")"
   ]
  },
  {
   "cell_type": "markdown",
   "metadata": {},
   "source": [
    "### if - else\n",
    "```python\n",
    "if (condición) :\n",
    "   (codigo a ejecutar si la condición se cumple)\n",
    "else:\n",
    "   (codigo a ejecutar si la condicion no se cumple)\n",
    "```"
   ]
  },
  {
   "cell_type": "code",
   "execution_count": 35,
   "metadata": {},
   "outputs": [
    {
     "name": "stdout",
     "output_type": "stream",
     "text": [
      "desaprobado\n"
     ]
    }
   ],
   "source": [
    "nota = 10\n",
    "\n",
    "if nota >= 11 :\n",
    "    print(\"aprobado\")\n",
    "else :\n",
    "    print(\"desaprobado\")"
   ]
  },
  {
   "cell_type": "markdown",
   "metadata": {},
   "source": [
    "### if - elif - else\n",
    "```python\n",
    "if (condición 1) :\n",
    "   (codigo a ejecutar si la condición 1 se cumple)\n",
    "elif (condición 2):\n",
    "   (codigo a ejecutar si las condiciones anteriores no se cumplen y la condicion 2 si se cumple)\n",
    "elif (condicion 3):\n",
    "   (codigo a ejecutar si las condiciones anteriores no se cumplen y la condicion 3 si se cumple)\n",
    "else : \n",
    "   (codigo a ejecutar si ninguna de la condiciones se cumplen)\n",
    "```"
   ]
  },
  {
   "cell_type": "code",
   "execution_count": 36,
   "metadata": {},
   "outputs": [
    {
     "name": "stdout",
     "output_type": "stream",
     "text": [
      "aprobrado, felicitaciones\n"
     ]
    }
   ],
   "source": [
    "nota = 16\n",
    "\n",
    "if nota >= 11 and nota < 15:\n",
    "    print(\"aprobado\")\n",
    "elif nota >= 15 : \n",
    "    print(\"aprobrado, felicitaciones\")\n",
    "else:\n",
    "    print(\"desaprobado\")"
   ]
  },
  {
   "cell_type": "markdown",
   "metadata": {},
   "source": [
    "**Ejercicio**\n",
    "\n",
    "Resolver la siguiente ecuación $ax^2 + bx + c = 0$ para valores de $a,b,c \\in \\mathbb{R}$ "
   ]
  },
  {
   "cell_type": "code",
   "execution_count": 1,
   "metadata": {},
   "outputs": [
    {
     "name": "stdout",
     "output_type": "stream",
     "text": [
      "a = 1\n",
      "b = 1\n",
      "c = 1\n",
      "resultado x1 = (-0.5+0.87j) , x2 = (-0.5-0.87j) .\n"
     ]
    }
   ],
   "source": [
    "a = float(input(\"a = \"))\n",
    "b = float(input(\"b = \"))\n",
    "c = float(input(\"c = \"))\n",
    "\n",
    "if a != 0 : \n",
    "    disc = b**2 - 4*a*c\n",
    "    x1 = ( -b + disc**(0.5) ) / 2*a\n",
    "    x2 = ( -b - disc**(0.5) ) / 2*a\n",
    "    print(\"resultado x1 = {0:.2} , x2 = {1:.2} .\".format(x1, x2))\n",
    "    \n",
    "else:\n",
    "    if b != 0 :\n",
    "        x = -c / b\n",
    "        print(\"resultado x = {0:0.2f}\".format(x))\n",
    "    else:\n",
    "        if c != 0:\n",
    "            print(\"La ecuación no tiene solución.\")\n",
    "        else:\n",
    "            print(\"La ecuación tiene infinitas soluciones.\")"
   ]
  },
  {
   "cell_type": "markdown",
   "metadata": {},
   "source": [
    "**Ejercicio**\n",
    "\n",
    "Leer tres numeros y como resultados ordenarlos de menor a mayor"
   ]
  },
  {
   "cell_type": "code",
   "execution_count": 38,
   "metadata": {},
   "outputs": [
    {
     "name": "stdout",
     "output_type": "stream",
     "text": [
      "a = 1\n",
      "b = 2\n",
      "c = 4\n",
      "resultado : 1.00 -> 4.00 -> 2.00\n"
     ]
    }
   ],
   "source": [
    "a = float(input(\"a = \"))\n",
    "b = float(input(\"b = \"))\n",
    "c = float(input(\"c = \"))\n",
    "\n",
    "mayor = a\n",
    "\n",
    "if mayor < b :\n",
    "    mayor = b\n",
    "elif  mayor < c:\n",
    "    mayor = c \n",
    "\n",
    "menor = a\n",
    "\n",
    "if menor > b:\n",
    "    menor = b\n",
    "elif menor > c:\n",
    "    menor = c\n",
    "    \n",
    "intermedio = a + b + c - (mayor + menor)\n",
    "\n",
    "print(\"resultado : {0:.2f} -> {1:.2f} -> {2:.2f}\".format(menor, intermedio, mayor))"
   ]
  },
  {
   "cell_type": "markdown",
   "metadata": {},
   "source": [
    "<a id=\"loop\"> </a>\n",
    "## Sentencias Repetitivas while, for"
   ]
  },
  {
   "cell_type": "markdown",
   "metadata": {},
   "source": [
    "### while\n",
    "```python\n",
    "while (condición) :\n",
    "    (codigo que se ejecuta repetidamente mientras que la condicion sea verdadera)\n",
    "```"
   ]
  },
  {
   "cell_type": "code",
   "execution_count": 39,
   "metadata": {},
   "outputs": [
    {
     "name": "stdout",
     "output_type": "stream",
     "text": [
      "0 1 2 3 4 5 6 7 8 9 10 11 "
     ]
    }
   ],
   "source": [
    "limite = 11\n",
    "i = 0\n",
    "while i <= limite :\n",
    "    print(i, end = \" \")\n",
    "    i = i + 1"
   ]
  },
  {
   "cell_type": "code",
   "execution_count": 40,
   "metadata": {},
   "outputs": [
    {
     "name": "stdout",
     "output_type": "stream",
     "text": [
      "Ingresa tu nombre : ········\n",
      "primera letra : 1\n",
      "\n",
      "¿Cuál es mi nombre?\n",
      "===================\n",
      "ingresa mi nombre : 1\n",
      "fallaste\n",
      "ingresa mi nombre : 10\n",
      "acertaste\n"
     ]
    }
   ],
   "source": [
    "import getpass\n",
    "\n",
    "mi_nombre = getpass.getpass(\"Ingresa tu nombre : \")\n",
    "print(\"primera letra : {0}\".format(mi_nombre[0]))\n",
    "\n",
    "print()\n",
    "print(\"¿Cuál es mi nombre?\")\n",
    "print(\"===================\")\n",
    "\n",
    "while True:\n",
    "    nombre = input(\"ingresa mi nombre : \")\n",
    "    if nombre == mi_nombre:\n",
    "        print(\"acertaste\")\n",
    "        break;\n",
    "    else :\n",
    "        print(\"fallaste\")"
   ]
  },
  {
   "cell_type": "markdown",
   "metadata": {},
   "source": [
    "### for\n",
    "```python\n",
    "for (variable) in (elemento iterable) :\n",
    "   (codigo que se ejecuta hasta terminar de recorrer el elemnto iterable) \n",
    "```"
   ]
  },
  {
   "cell_type": "code",
   "execution_count": 41,
   "metadata": {},
   "outputs": [
    {
     "name": "stdout",
     "output_type": "stream",
     "text": [
      "mensaje 1\n",
      "mensaje 2\n",
      "mensaje 3\n"
     ]
    }
   ],
   "source": [
    "for i in [1, 2, 3]:\n",
    "    print(\"mensaje {0}\".format(i))"
   ]
  },
  {
   "cell_type": "code",
   "execution_count": 42,
   "metadata": {},
   "outputs": [
    {
     "name": "stdout",
     "output_type": "stream",
     "text": [
      "mensaje 1\n",
      "mensaje 1\n",
      "mensaje 1\n"
     ]
    }
   ],
   "source": [
    "for i in [1, 1, 1]:\n",
    "    print(\"mensaje {0}\".format(i))"
   ]
  },
  {
   "cell_type": "code",
   "execution_count": 43,
   "metadata": {},
   "outputs": [
    {
     "name": "stdout",
     "output_type": "stream",
     "text": [
      "0 1 2 3 4 5 6 7 8 9 "
     ]
    }
   ],
   "source": [
    "for i in range(10):\n",
    "    print(i, end = \" \")"
   ]
  },
  {
   "cell_type": "code",
   "execution_count": 44,
   "metadata": {},
   "outputs": [
    {
     "name": "stdout",
     "output_type": "stream",
     "text": [
      "5 6 7 8 9 "
     ]
    }
   ],
   "source": [
    "for i in range(5,10):\n",
    "    print(i, end = \" \")"
   ]
  },
  {
   "cell_type": "code",
   "execution_count": 45,
   "metadata": {},
   "outputs": [
    {
     "name": "stdout",
     "output_type": "stream",
     "text": [
      "0 2 4 6 8 "
     ]
    }
   ],
   "source": [
    "for i in range(0,10,2):\n",
    "    print(i, end = \" \")"
   ]
  },
  {
   "cell_type": "code",
   "execution_count": 46,
   "metadata": {},
   "outputs": [
    {
     "name": "stdout",
     "output_type": "stream",
     "text": [
      "Maria\n",
      "Lucas\n",
      "Eduado\n",
      "Priscila\n"
     ]
    }
   ],
   "source": [
    "nombres = [\"Maria\", \"Lucas\", \"Eduado\", \"Priscila\"]\n",
    "for i in range(len(nombres)):\n",
    "    print(nombres[i])"
   ]
  },
  {
   "cell_type": "code",
   "execution_count": 47,
   "metadata": {},
   "outputs": [
    {
     "name": "stdout",
     "output_type": "stream",
     "text": [
      "Maria\n",
      "Lucas\n",
      "Eduado\n",
      "Priscila\n"
     ]
    }
   ],
   "source": [
    "for nombre in nombres:\n",
    "    print(nombre)"
   ]
  },
  {
   "cell_type": "code",
   "execution_count": 48,
   "metadata": {},
   "outputs": [
    {
     "name": "stdout",
     "output_type": "stream",
     "text": [
      "nombre : charmander \n",
      "tipo : fuego \n",
      "peso : 8 \n",
      "debilidades : ['tierra', 'roca', 'agua'] \n"
     ]
    }
   ],
   "source": [
    "for llave, valor in pokemon.items():\n",
    "    print(\"{0} : {1} \".format(llave, valor))"
   ]
  },
  {
   "cell_type": "markdown",
   "metadata": {},
   "source": [
    "**Ejercicio**\n",
    "\n",
    "Crear un cuadrado de asteriscos ingresando la cantidad de asteriscos para sus lados"
   ]
  },
  {
   "cell_type": "code",
   "execution_count": 49,
   "metadata": {
    "scrolled": true
   },
   "outputs": [
    {
     "name": "stdout",
     "output_type": "stream",
     "text": [
      "N° astericos por lado : 4\n",
      "* * * * \n",
      "* * * * \n",
      "* * * * \n",
      "* * * * \n"
     ]
    }
   ],
   "source": [
    "n = int(input(\"N° astericos por lado : \"))\n",
    "for i in range(n):\n",
    "    for i in range(n):\n",
    "        print(\"*\", end = \" \")\n",
    "    print()"
   ]
  },
  {
   "cell_type": "code",
   "execution_count": 50,
   "metadata": {
    "scrolled": true
   },
   "outputs": [
    {
     "name": "stdout",
     "output_type": "stream",
     "text": [
      "N° asteriscos por lado : 8\n",
      "* * * * * * * * \n",
      "* * * * * * * * \n",
      "* * * * * * * * \n",
      "* * * * * * * * \n",
      "* * * * * * * * \n",
      "* * * * * * * * \n",
      "* * * * * * * * \n",
      "* * * * * * * * \n"
     ]
    }
   ],
   "source": [
    "n = int(input(\"N° asteriscos por lado : \"))\n",
    "for i in range(n):\n",
    "    print(\"* \" * n)"
   ]
  },
  {
   "cell_type": "markdown",
   "metadata": {},
   "source": [
    "**Ejercicio**\n",
    "$$\\sum_{k=1}^n k^2$$"
   ]
  },
  {
   "cell_type": "code",
   "execution_count": 51,
   "metadata": {},
   "outputs": [
    {
     "name": "stdout",
     "output_type": "stream",
     "text": [
      "n = 8\n",
      "resultado =  204\n"
     ]
    }
   ],
   "source": [
    "n = int(input(\"n = \"))\n",
    "sum = 0\n",
    "for k in range(1,n+1):\n",
    "    sum = sum + k**2\n",
    "\n",
    "print(\"resultado = \", sum)"
   ]
  },
  {
   "cell_type": "markdown",
   "metadata": {},
   "source": [
    "$$\\sum_{k=1}^n \\frac{k}{1+k}$$"
   ]
  },
  {
   "cell_type": "code",
   "execution_count": 52,
   "metadata": {},
   "outputs": [
    {
     "name": "stdout",
     "output_type": "stream",
     "text": [
      "n = 10\n",
      "resultado =  7.980122655122655\n"
     ]
    }
   ],
   "source": [
    "n = int(input(\"n = \"))\n",
    "sum = 0\n",
    "for k in range(1,n+1):\n",
    "    sum = sum + k/(k+1)\n",
    "\n",
    "print(\"resultado = \", sum)"
   ]
  },
  {
   "cell_type": "markdown",
   "metadata": {},
   "source": [
    "**Ejercicio**\n",
    "\n",
    "Crear un juego donde tienes que adivinar el valor de un numero escogido al azar, en cada turno podras ingresar un numero, si fallas el juego debe dar un mensaje de ayuda diciendo si el numero ganador es menor o mayor al ingresado. (5 turnos, los valores del numero ganador seran de 1 a 100) "
   ]
  },
  {
   "cell_type": "code",
   "execution_count": 53,
   "metadata": {},
   "outputs": [
    {
     "name": "stdout",
     "output_type": "stream",
     "text": [
      "Tienes que adivinar un número del 1 al 100 en 5 turnos\n",
      "======================================================\n",
      "Ingresar numero : 30\n",
      "El numero es menor\n",
      "Ingresar numero : 20\n",
      "El numero es mayor\n",
      "Ingresar numero : 6\n",
      "El numero es mayor\n",
      "Ingresar numero : 3\n",
      "El numero es mayor\n",
      "Ingresar numero : 8\n",
      "El numero es mayor\n",
      "PERDISTE =(\n"
     ]
    }
   ],
   "source": [
    "import random\n",
    "\n",
    "win_number = random.randint(1,100)\n",
    "gano = False;\n",
    "\n",
    "print(\"Tienes que adivinar un número del 1 al 100 en 5 turnos\")\n",
    "print(\"======================================================\")\n",
    "\n",
    "for i in range(5):\n",
    "    number = int( input(\"Ingresar numero : \") )\n",
    "    if number == win_number:\n",
    "        gano = True\n",
    "        break\n",
    "    elif number < win_number:\n",
    "        print(\"El numero es mayor\")\n",
    "    elif number > win_number:\n",
    "        print(\"El numero es menor\")\n",
    "\n",
    "if gano:\n",
    "    print(\"GANASTE !!\")\n",
    "else:\n",
    "    print(\"PERDISTE =(\")"
   ]
  },
  {
   "cell_type": "markdown",
   "metadata": {},
   "source": [
    "<a id=\"function\"> </a>\n",
    "## Funciones\n",
    "```python\n",
    "def mi_funcion(parametros):\n",
    "    (codigo que vamos a ejecutar, algoritmo)\n",
    "```"
   ]
  },
  {
   "cell_type": "code",
   "execution_count": 54,
   "metadata": {},
   "outputs": [],
   "source": [
    "def mensaje():\n",
    "    print(\"Estamos aprendiendo Python\")"
   ]
  },
  {
   "cell_type": "code",
   "execution_count": 55,
   "metadata": {},
   "outputs": [
    {
     "name": "stdout",
     "output_type": "stream",
     "text": [
      "Estamos aprendiendo Python\n"
     ]
    }
   ],
   "source": [
    "mensaje()"
   ]
  },
  {
   "cell_type": "code",
   "execution_count": 56,
   "metadata": {},
   "outputs": [],
   "source": [
    "#promedio de una lista de numeros\n",
    "def promedio(numeros):\n",
    "    n = len(numeros)\n",
    "    suma = 0\n",
    "    for numero in numeros:\n",
    "        suma += numero  \n",
    "    \n",
    "    return suma/n "
   ]
  },
  {
   "cell_type": "code",
   "execution_count": 57,
   "metadata": {},
   "outputs": [
    {
     "data": {
      "text/plain": [
       "10.5"
      ]
     },
     "execution_count": 57,
     "metadata": {},
     "output_type": "execute_result"
    }
   ],
   "source": [
    "lista = [12,2,8,20]\n",
    "\n",
    "resultado = promedio(lista)\n",
    "resultado"
   ]
  },
  {
   "cell_type": "code",
   "execution_count": 58,
   "metadata": {},
   "outputs": [],
   "source": [
    "def boleta_hamburguesa(cliente, mesa, n_hamb=1, n_huev=0, n_ques=0, ensa=False, crem = []):\n",
    "    p_humb = n_hamb*2.00\n",
    "    p_huev = n_huev*1.50\n",
    "    p_ques = n_ques*1.50\n",
    "    p_crem = len(crem)*0.20\n",
    "    p_ensa = 0.50 if ensa else 0.0\n",
    "    \n",
    "    total = p_humb + p_huev + p_ques + p_crem\n",
    "        \n",
    "    print(\"    Boleta Hamburguesa\")\n",
    "    print(\"=\"*25)\n",
    "    print(\"Cliente: {0:.5s} - Mesa: {1}\".format(cliente, mesa))\n",
    "    print(\"=\"*25)\n",
    "    print(\"{0} hamburguesas {1:10.2f}\".format(n_hamb, p_humb))\n",
    "    print(\"{0} huevos       {1:10.2f}\".format(n_huev, p_huev))\n",
    "    print(\"{0} cremas       {1:10.2f}\".format(len(crem), p_crem ))\n",
    "    print(\"{0} ensalada     {1:10.2f}\".format(\" \", p_ensa))\n",
    "    print(\"=\"*25)\n",
    "    print(\"{0} Total        {1:10.2f}\".format(\" \",total))"
   ]
  },
  {
   "cell_type": "code",
   "execution_count": 59,
   "metadata": {
    "scrolled": true
   },
   "outputs": [
    {
     "name": "stdout",
     "output_type": "stream",
     "text": [
      "    Boleta Hamburguesa\n",
      "=========================\n",
      "Cliente: manue - Mesa: 4\n",
      "=========================\n",
      "1 hamburguesas       2.00\n",
      "0 huevos             0.00\n",
      "0 cremas             0.00\n",
      "  ensalada           0.00\n",
      "=========================\n",
      "  Total              2.00\n"
     ]
    }
   ],
   "source": [
    "boleta_hamburguesa(\"manuel\", 4)"
   ]
  },
  {
   "cell_type": "code",
   "execution_count": 60,
   "metadata": {},
   "outputs": [
    {
     "name": "stdout",
     "output_type": "stream",
     "text": [
      "    Boleta Hamburguesa\n",
      "=========================\n",
      "Cliente: Cielo - Mesa: 10\n",
      "=========================\n",
      "2 hamburguesas       4.00\n",
      "2 huevos             3.00\n",
      "2 cremas             0.40\n",
      "  ensalada           0.00\n",
      "=========================\n",
      "  Total              7.40\n"
     ]
    }
   ],
   "source": [
    "boleta_hamburguesa(\"Cielo\", 10, 2, n_huev=2, crem=[\"mayonesa\", \"ketchup\"] )"
   ]
  }
 ],
 "metadata": {
  "kernelspec": {
   "display_name": "Python 3",
   "language": "python",
   "name": "python3"
  },
  "language_info": {
   "codemirror_mode": {
    "name": "ipython",
    "version": 3
   },
   "file_extension": ".py",
   "mimetype": "text/x-python",
   "name": "python",
   "nbconvert_exporter": "python",
   "pygments_lexer": "ipython3",
   "version": "3.6.3"
  }
 },
 "nbformat": 4,
 "nbformat_minor": 2
}
